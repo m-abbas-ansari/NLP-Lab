{
 "cells": [
  {
   "cell_type": "code",
   "execution_count": 1,
   "metadata": {},
   "outputs": [],
   "source": [
    "V = [] #All unique charcters in C\n",
    "corpus = \"low low low low low lowest lowest newer newer newer newer newer newer wider wider wider new new\""
   ]
  },
  {
   "cell_type": "code",
   "execution_count": 2,
   "metadata": {},
   "outputs": [
    {
     "data": {
      "text/plain": [
       "['low_',\n",
       " 'low_',\n",
       " 'low_',\n",
       " 'low_',\n",
       " 'low_',\n",
       " 'lowest_',\n",
       " 'lowest_',\n",
       " 'newer_',\n",
       " 'newer_',\n",
       " 'newer_',\n",
       " 'newer_',\n",
       " 'newer_',\n",
       " 'newer_',\n",
       " 'wider_',\n",
       " 'wider_',\n",
       " 'wider_',\n",
       " 'new_',\n",
       " 'new_']"
      ]
     },
     "execution_count": 2,
     "metadata": {},
     "output_type": "execute_result"
    }
   ],
   "source": [
    "from nltk.tokenize import word_tokenize\n",
    "\n",
    "words = [w+'_' for w in word_tokenize(corpus)]\n",
    "words"
   ]
  },
  {
   "cell_type": "code",
   "execution_count": 8,
   "metadata": {},
   "outputs": [
    {
     "data": {
      "text/plain": [
       "{'low_': 5, 'lowest_': 2, 'newer_': 6, 'wider_': 3, 'new_': 2}"
      ]
     },
     "execution_count": 8,
     "metadata": {},
     "output_type": "execute_result"
    }
   ],
   "source": [
    "from collections import Counter\n",
    "\n",
    "counts = dict(Counter(words))\n",
    "\n",
    "# for w in words: counts[w] = counts.get(w,0) + 1\n",
    "    \n",
    "counts"
   ]
  },
  {
   "cell_type": "code",
   "execution_count": 4,
   "metadata": {},
   "outputs": [
    {
     "data": {
      "text/plain": [
       "{'low_': ['l', 'o', 'w', '_'],\n",
       " 'lowest_': ['l', 'o', 'w', 'e', 's', 't', '_'],\n",
       " 'newer_': ['n', 'e', 'w', 'e', 'r', '_'],\n",
       " 'wider_': ['w', 'i', 'd', 'e', 'r', '_'],\n",
       " 'new_': ['n', 'e', 'w', '_']}"
      ]
     },
     "execution_count": 4,
     "metadata": {},
     "output_type": "execute_result"
    }
   ],
   "source": [
    "corpus ={}\n",
    "\n",
    "for word in counts:\n",
    "    corpus[word]= [c for c in word]\n",
    "corpus"
   ]
  },
  {
   "cell_type": "code",
   "execution_count": 10,
   "metadata": {},
   "outputs": [],
   "source": [
    "def new_corpus(corpus,Tl,Tr):\n",
    "    \n",
    "    for word in corpus:\n",
    "        new_list = []\n",
    "        i =0\n",
    "        while (i < (len(corpus[word]))):\n",
    "            if corpus[word][i]==Tl and corpus[word][i+1]==Tr:\n",
    "                new_list.append(Tl+Tr)\n",
    "                i+=2\n",
    "            else:\n",
    "                new_list.append(corpus[word][i])\n",
    "                i+=1\n",
    "        corpus[word] = new_list\n",
    "    return corpus\n",
    "\n",
    "def get_vocab(corpus):\n",
    "    V = set()\n",
    "\n",
    "    for word in corpus:\n",
    "        for w in corpus[word]:\n",
    "            V.add(w)\n",
    "    return V\n",
    "\n",
    "def make_pairs(v):\n",
    "    pairs = set()\n",
    "    for i in v:\n",
    "        if i !='_':\n",
    "            for j in v:\n",
    "                if i != j:\n",
    "                    pairs.add(i+','+j)\n",
    "    return pairs \n",
    "\n",
    "def count_pair_freq(all_pairs,corpus):\n",
    "    pair_freq ={}\n",
    "    \n",
    "    for pair in all_pairs:\n",
    "        for word in corpus:\n",
    "            char_list = corpus[word]\n",
    "            for i in range(len(char_list)-1):\n",
    "                curr_pair = char_list[i]+ ',' + char_list[i+1]\n",
    "                if curr_pair == pair:\n",
    "                    if pair in pair_freq:\n",
    "                        pair_freq[pair]+=counts[word]\n",
    "                    else:\n",
    "                        pair_freq[pair]=counts[word]\n",
    "    return pair_freq \n",
    "\n",
    "def get_max_pair(pair_freq):\n",
    "    Tl=''\n",
    "    Tr=''\n",
    "    max_freq =0\n",
    "    for p in pair_freq:\n",
    "        if pair_freq[p]>max_freq:\n",
    "            Tl,Tr = p.split(',')\n",
    "            max_freq = pair_freq[p]\n",
    "    \n",
    "    return [Tl,Tr]"
   ]
  },
  {
   "cell_type": "code",
   "execution_count": 11,
   "metadata": {},
   "outputs": [],
   "source": [
    "V = get_vocab(corpus)\n",
    "def BPE(corpus,k):\n",
    "    for i in range(k):\n",
    "        \n",
    "        print(\"corpus: \",corpus)\n",
    "        \n",
    "        # get new vocab:\n",
    "        vocab = get_vocab(corpus)\n",
    "        print(\"vocab: \",vocab)\n",
    "        \n",
    "        # Most frequent pair of adjacent tokens in C\n",
    "        all_pairs = make_pairs(vocab)\n",
    "#         print(\"all_pairs: \",all_pairs)\n",
    "        \n",
    "        count_pairs = count_pair_freq(all_pairs,corpus)\n",
    "        print(\"count_pairs: \",count_pairs)\n",
    "        \n",
    "        Tl,Tr = get_max_pair(count_pairs)\n",
    "        print(\"max_pairs: \",Tl,\" \",Tr,\"\\n\")\n",
    "\n",
    "        Tnew = Tl + Tr\n",
    "        V.add(Tnew)\n",
    "\n",
    "\n",
    "        # Replace each occurrence of tL, tR in C with tNEW\n",
    "        corpus = new_corpus(corpus,Tl,Tr)\n",
    "    \n",
    "    return V"
   ]
  },
  {
   "cell_type": "code",
   "execution_count": 12,
   "metadata": {},
   "outputs": [
    {
     "name": "stdout",
     "output_type": "stream",
     "text": [
      "corpus:  {'low_': ['l', 'o', 'w', '_'], 'lowest_': ['l', 'o', 'w', 'e', 's', 't', '_'], 'newer_': ['n', 'e', 'w', 'e', 'r', '_'], 'wider_': ['w', 'i', 'd', 'e', 'r', '_'], 'new_': ['n', 'e', 'w', '_']}\n",
      "vocab:  {'i', 'e', 'w', 's', 'n', 'l', 'd', '_', 'o', 't', 'r'}\n",
      "count_pairs:  {'w,e': 8, 'w,_': 7, 'r,_': 9, 'i,d': 3, 'e,s': 2, 't,_': 2, 's,t': 2, 'd,e': 3, 'e,w': 8, 'w,i': 3, 'o,w': 7, 'l,o': 7, 'e,r': 9, 'n,e': 8}\n",
      "max_pairs:  r   _ \n",
      "\n",
      "corpus:  {'low_': ['l', 'o', 'w', '_'], 'lowest_': ['l', 'o', 'w', 'e', 's', 't', '_'], 'newer_': ['n', 'e', 'w', 'e', 'r_'], 'wider_': ['w', 'i', 'd', 'e', 'r_'], 'new_': ['n', 'e', 'w', '_']}\n",
      "vocab:  {'i', 'e', 'w', 's', 'n', 'l', 'd', '_', 'r_', 'o', 't'}\n",
      "count_pairs:  {'e,r_': 9, 'w,e': 8, 'w,_': 7, 'i,d': 3, 'e,s': 2, 't,_': 2, 's,t': 2, 'd,e': 3, 'e,w': 8, 'w,i': 3, 'o,w': 7, 'l,o': 7, 'n,e': 8}\n",
      "max_pairs:  e   r_ \n",
      "\n",
      "corpus:  {'low_': ['l', 'o', 'w', '_'], 'lowest_': ['l', 'o', 'w', 'e', 's', 't', '_'], 'newer_': ['n', 'e', 'w', 'er_'], 'wider_': ['w', 'i', 'd', 'er_'], 'new_': ['n', 'e', 'w', '_']}\n",
      "vocab:  {'er_', 'i', 'e', 'w', 's', 'n', 'l', 'd', '_', 'o', 't'}\n",
      "count_pairs:  {'w,e': 2, 'w,_': 7, 'i,d': 3, 'e,s': 2, 'w,er_': 6, 't,_': 2, 's,t': 2, 'e,w': 8, 'w,i': 3, 'd,er_': 3, 'o,w': 7, 'l,o': 7, 'n,e': 8}\n",
      "max_pairs:  e   w \n",
      "\n",
      "corpus:  {'low_': ['l', 'o', 'w', '_'], 'lowest_': ['l', 'o', 'w', 'e', 's', 't', '_'], 'newer_': ['n', 'ew', 'er_'], 'wider_': ['w', 'i', 'd', 'er_'], 'new_': ['n', 'ew', '_']}\n",
      "vocab:  {'er_', 'i', 'e', 'w', 's', 'n', 'l', 'ew', 'd', '_', 'o', 't'}\n",
      "count_pairs:  {'w,e': 2, 'w,_': 5, 'ew,_': 2, 'i,d': 3, 'n,ew': 8, 'e,s': 2, 't,_': 2, 's,t': 2, 'ew,er_': 6, 'w,i': 3, 'd,er_': 3, 'o,w': 7, 'l,o': 7}\n",
      "max_pairs:  n   ew \n",
      "\n",
      "corpus:  {'low_': ['l', 'o', 'w', '_'], 'lowest_': ['l', 'o', 'w', 'e', 's', 't', '_'], 'newer_': ['new', 'er_'], 'wider_': ['w', 'i', 'd', 'er_'], 'new_': ['new', '_']}\n",
      "vocab:  {'new', 'er_', 'i', 'e', 'w', 's', 'l', 'd', '_', 'o', 't'}\n",
      "count_pairs:  {'w,e': 2, 'w,_': 5, 'new,_': 2, 'i,d': 3, 'e,s': 2, 't,_': 2, 'new,er_': 6, 's,t': 2, 'w,i': 3, 'd,er_': 3, 'o,w': 7, 'l,o': 7}\n",
      "max_pairs:  o   w \n",
      "\n",
      "corpus:  {'low_': ['l', 'ow', '_'], 'lowest_': ['l', 'ow', 'e', 's', 't', '_'], 'newer_': ['new', 'er_'], 'wider_': ['w', 'i', 'd', 'er_'], 'new_': ['new', '_']}\n",
      "vocab:  {'new', 'er_', 'i', 'e', 'w', 's', 'l', 'd', '_', 'ow', 't'}\n",
      "count_pairs:  {'ow,e': 2, 'new,_': 2, 'l,ow': 7, 'i,d': 3, 'e,s': 2, 't,_': 2, 'new,er_': 6, 's,t': 2, 'w,i': 3, 'd,er_': 3, 'ow,_': 5}\n",
      "max_pairs:  l   ow \n",
      "\n",
      "corpus:  {'low_': ['low', '_'], 'lowest_': ['low', 'e', 's', 't', '_'], 'newer_': ['new', 'er_'], 'wider_': ['w', 'i', 'd', 'er_'], 'new_': ['new', '_']}\n",
      "vocab:  {'new', 'er_', 'i', 'e', 'w', 's', 'low', 'd', '_', 't'}\n",
      "count_pairs:  {'new,_': 2, 'i,d': 3, 'e,s': 2, 't,_': 2, 'new,er_': 6, 's,t': 2, 'w,i': 3, 'd,er_': 3, 'low,_': 5, 'low,e': 2}\n",
      "max_pairs:  new   er_ \n",
      "\n",
      "corpus:  {'low_': ['low', '_'], 'lowest_': ['low', 'e', 's', 't', '_'], 'newer_': ['newer_'], 'wider_': ['w', 'i', 'd', 'er_'], 'new_': ['new', '_']}\n",
      "vocab:  {'new', 'er_', 'i', 'e', 'w', 's', 'low', 'd', '_', 'newer_', 't'}\n",
      "count_pairs:  {'new,_': 2, 'i,d': 3, 'e,s': 2, 't,_': 2, 's,t': 2, 'w,i': 3, 'd,er_': 3, 'low,_': 5, 'low,e': 2}\n",
      "max_pairs:  low   _ \n",
      "\n",
      "corpus:  {'low_': ['low_'], 'lowest_': ['low', 'e', 's', 't', '_'], 'newer_': ['newer_'], 'wider_': ['w', 'i', 'd', 'er_'], 'new_': ['new', '_']}\n",
      "vocab:  {'new', 'er_', 'i', 'e', 'w', 's', 'low', 'd', '_', 'newer_', 't', 'low_'}\n",
      "count_pairs:  {'new,_': 2, 'i,d': 3, 'e,s': 2, 't,_': 2, 's,t': 2, 'w,i': 3, 'd,er_': 3, 'low,e': 2}\n",
      "max_pairs:  i   d \n",
      "\n"
     ]
    },
    {
     "data": {
      "text/plain": [
       "{'_',\n",
       " 'd',\n",
       " 'e',\n",
       " 'er_',\n",
       " 'ew',\n",
       " 'i',\n",
       " 'id',\n",
       " 'l',\n",
       " 'low',\n",
       " 'low_',\n",
       " 'n',\n",
       " 'new',\n",
       " 'newer_',\n",
       " 'o',\n",
       " 'ow',\n",
       " 'r',\n",
       " 'r_',\n",
       " 's',\n",
       " 't',\n",
       " 'w'}"
      ]
     },
     "execution_count": 12,
     "metadata": {},
     "output_type": "execute_result"
    }
   ],
   "source": [
    "BPE(corpus,9)"
   ]
  },
  {
   "cell_type": "code",
   "execution_count": null,
   "metadata": {},
   "outputs": [],
   "source": []
  }
 ],
 "metadata": {
  "kernelspec": {
   "display_name": "Python 3",
   "language": "python",
   "name": "python3"
  },
  "language_info": {
   "codemirror_mode": {
    "name": "ipython",
    "version": 3
   },
   "file_extension": ".py",
   "mimetype": "text/x-python",
   "name": "python",
   "nbconvert_exporter": "python",
   "pygments_lexer": "ipython3",
   "version": "3.10.12"
  }
 },
 "nbformat": 4,
 "nbformat_minor": 2
}
