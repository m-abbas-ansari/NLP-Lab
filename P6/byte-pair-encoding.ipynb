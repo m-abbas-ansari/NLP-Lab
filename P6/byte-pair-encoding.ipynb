{
 "cells": [
  {
   "cell_type": "code",
   "execution_count": 18,
   "metadata": {},
   "outputs": [],
   "source": [
    "from collections import Counter\n",
    "from nltk.tokenize import word_tokenize"
   ]
  },
  {
   "cell_type": "code",
   "execution_count": 23,
   "metadata": {},
   "outputs": [],
   "source": [
    "# form pairs and get count\n",
    "def find_frequent_pair(word_freq):\n",
    "    pairs = {}\n",
    "    for w, ct in word_freq:\n",
    "        for c1, c2 in zip(w, w[1:]):\n",
    "            pairs[(c1,c2)] = ct + pairs.get((c1,c2), 0)\n",
    "    max_pair = max(pairs, key = lambda x: pairs[x])\n",
    "    return max_pair\n",
    "\n",
    "def update_corpus(word_freq, max_pair):\n",
    "    for i, (w, _) in enumerate(word_freq):\n",
    "        j = 0 \n",
    "        new_w = []\n",
    "        while j < len(w):\n",
    "            if j != len(w) - 1 and tuple(w[j:j+2]) == max_pair:\n",
    "                new_w.append(\"\".join(max_pair))\n",
    "                j += 2\n",
    "            else:\n",
    "                new_w.append(w[j])\n",
    "                j += 1\n",
    "        word_freq[i][0] = new_w"
   ]
  },
  {
   "cell_type": "code",
   "execution_count": 25,
   "metadata": {},
   "outputs": [],
   "source": [
    "# Bye Pair Encoding\n",
    "\n",
    "def bytePairEncoding(corpus, k):\n",
    "    words = [w+\"_\" for w in word_tokenize(corpus)]\n",
    "    word_freq = dict(Counter(words))\n",
    "    word_freq = [[list(w),c] for w,c in word_freq.items()]\n",
    "    print(word_freq)\n",
    "\n",
    "    V = set() # all unique characters\n",
    "    for w, _ in word_freq:\n",
    "        for c in w: V.add(c)\n",
    "\n",
    "    for _ in range(k):\n",
    "        tl, tr = find_frequent_pair(word_freq)\n",
    "        tnew = tl + tr\n",
    "        V.add(tnew) # update vocabulary\n",
    "        update_corpus(word_freq, (tl, tr))\n",
    "    \n",
    "    return V"
   ]
  },
  {
   "cell_type": "code",
   "execution_count": 26,
   "metadata": {},
   "outputs": [],
   "source": [
    "corpus = \"low low low low low lowest lowest newer newer newer newer newer newer wider wider wider new new\""
   ]
  },
  {
   "cell_type": "code",
   "execution_count": 31,
   "metadata": {},
   "outputs": [
    {
     "name": "stdout",
     "output_type": "stream",
     "text": [
      "[[['l', 'o', 'w', '_'], 5], [['l', 'o', 'w', 'e', 's', 't', '_'], 2], [['n', 'e', 'w', 'e', 'r', '_'], 6], [['w', 'i', 'd', 'e', 'r', '_'], 3], [['n', 'e', 'w', '_'], 2]]\n"
     ]
    },
    {
     "data": {
      "text/plain": [
       "{'_',\n",
       " 'd',\n",
       " 'e',\n",
       " 'er',\n",
       " 'er_',\n",
       " 'i',\n",
       " 'l',\n",
       " 'lo',\n",
       " 'low',\n",
       " 'low_',\n",
       " 'lowe',\n",
       " 'n',\n",
       " 'ne',\n",
       " 'new',\n",
       " 'newer_',\n",
       " 'o',\n",
       " 'r',\n",
       " 's',\n",
       " 't',\n",
       " 'w',\n",
       " 'wi',\n",
       " 'wid',\n",
       " 'wider_'}"
      ]
     },
     "execution_count": 31,
     "metadata": {},
     "output_type": "execute_result"
    }
   ],
   "source": [
    "bytePairEncoding(corpus, 12)"
   ]
  },
  {
   "cell_type": "code",
   "execution_count": null,
   "metadata": {},
   "outputs": [],
   "source": []
  }
 ],
 "metadata": {
  "kernelspec": {
   "display_name": "Python 3",
   "language": "python",
   "name": "python3"
  },
  "language_info": {
   "codemirror_mode": {
    "name": "ipython",
    "version": 3
   },
   "file_extension": ".py",
   "mimetype": "text/x-python",
   "name": "python",
   "nbconvert_exporter": "python",
   "pygments_lexer": "ipython3",
   "version": "3.10.12"
  }
 },
 "nbformat": 4,
 "nbformat_minor": 2
}
