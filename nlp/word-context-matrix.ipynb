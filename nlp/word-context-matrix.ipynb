{
 "cells": [
  {
   "cell_type": "code",
   "execution_count": 3,
   "id": "29729dd9-0fbd-44ff-b9ea-a48ecd6c2482",
   "metadata": {},
   "outputs": [
    {
     "name": "stderr",
     "output_type": "stream",
     "text": [
      "[nltk_data] Downloading package punkt to /home/abbas/nltk_data...\n",
      "[nltk_data]   Unzipping tokenizers/punkt.zip.\n",
      "[nltk_data] Downloading package stopwords to /home/abbas/nltk_data...\n",
      "[nltk_data]   Unzipping corpora/stopwords.zip.\n"
     ]
    },
    {
     "data": {
      "text/plain": [
       "True"
      ]
     },
     "execution_count": 3,
     "metadata": {},
     "output_type": "execute_result"
    }
   ],
   "source": [
    "import numpy as np\n",
    "from nltk.corpus import stopwords\n",
    "from nltk.tokenize import word_tokenize\n",
    "from nltk import FreqDist\n",
    "import nltk\n",
    "nltk.download('punkt')\n",
    "nltk.download('stopwords')"
   ]
  },
  {
   "cell_type": "code",
   "execution_count": 10,
   "id": "23f36e97-1275-467a-b376-026fce3674d9",
   "metadata": {},
   "outputs": [],
   "source": [
    "# Sample corpus\n",
    "corpus = \"\"\"\n",
    "    the dog ran after the cat. the cat chased the mouse.\n",
    "\"\"\""
   ]
  },
  {
   "cell_type": "code",
   "execution_count": 11,
   "id": "dbea88fe-4e79-46c6-a623-af76c1482c6d",
   "metadata": {},
   "outputs": [],
   "source": [
    "# Tokenize the corpus\n",
    "tokens = word_tokenize(corpus.lower())\n",
    "\n",
    "# Remove stopwords\n",
    "stop_words = set(stopwords.words('english'))\n",
    "filtered_tokens = [\n",
    "    token for token in tokens if token.isalnum() and token not in stop_words]"
   ]
  },
  {
   "cell_type": "code",
   "execution_count": 12,
   "id": "3dbc1c4c-ea23-4d44-8151-528ba52872f4",
   "metadata": {},
   "outputs": [],
   "source": [
    "# Define window size\n",
    "window_size = 2"
   ]
  },
  {
   "cell_type": "code",
   "execution_count": 13,
   "id": "a3c3064c-a623-45e5-ab76-41f5a03b1aaa",
   "metadata": {},
   "outputs": [],
   "source": [
    "# Create word-context matrix\n",
    "word_context_matrix = {}\n",
    "\n",
    "for i in range(len(filtered_tokens)):\n",
    "    word = filtered_tokens[i]\n",
    "    if word not in word_context_matrix:\n",
    "        word_context_matrix[word] = {}\n",
    "\n",
    "    for j in range(max(0, i - window_size), min(len(filtered_tokens), i + window_size + 1)):\n",
    "        if i != j:\n",
    "            context_word = filtered_tokens[j]\n",
    "            if context_word not in word_context_matrix[word]:\n",
    "                word_context_matrix[word][context_word] = 1\n",
    "            else:\n",
    "                word_context_matrix[word][context_word] += 1"
   ]
  },
  {
   "cell_type": "code",
   "execution_count": 14,
   "id": "04042c35-6b19-4ec9-a198-c21c57acd7d6",
   "metadata": {},
   "outputs": [
    {
     "data": {
      "text/plain": [
       "{'dog': {'ran': 1, 'cat': 1},\n",
       " 'ran': {'dog': 1, 'cat': 2},\n",
       " 'cat': {'dog': 1, 'ran': 2, 'cat': 2, 'chased': 2, 'mouse': 1},\n",
       " 'chased': {'cat': 2, 'mouse': 1},\n",
       " 'mouse': {'cat': 1, 'chased': 1}}"
      ]
     },
     "execution_count": 14,
     "metadata": {},
     "output_type": "execute_result"
    }
   ],
   "source": [
    "word_context_matrix"
   ]
  },
  {
   "cell_type": "code",
   "execution_count": 16,
   "id": "c7e5e3e8-3848-4b36-b8fe-55a210d13317",
   "metadata": {},
   "outputs": [
    {
     "data": {
      "text/html": [
       "<div>\n",
       "<style scoped>\n",
       "    .dataframe tbody tr th:only-of-type {\n",
       "        vertical-align: middle;\n",
       "    }\n",
       "\n",
       "    .dataframe tbody tr th {\n",
       "        vertical-align: top;\n",
       "    }\n",
       "\n",
       "    .dataframe thead th {\n",
       "        text-align: right;\n",
       "    }\n",
       "</style>\n",
       "<table border=\"1\" class=\"dataframe\">\n",
       "  <thead>\n",
       "    <tr style=\"text-align: right;\">\n",
       "      <th></th>\n",
       "      <th>dog</th>\n",
       "      <th>ran</th>\n",
       "      <th>cat</th>\n",
       "      <th>chased</th>\n",
       "      <th>mouse</th>\n",
       "    </tr>\n",
       "  </thead>\n",
       "  <tbody>\n",
       "    <tr>\n",
       "      <th>ran</th>\n",
       "      <td>1.0</td>\n",
       "      <td>NaN</td>\n",
       "      <td>2</td>\n",
       "      <td>NaN</td>\n",
       "      <td>NaN</td>\n",
       "    </tr>\n",
       "    <tr>\n",
       "      <th>cat</th>\n",
       "      <td>1.0</td>\n",
       "      <td>2.0</td>\n",
       "      <td>2</td>\n",
       "      <td>2.0</td>\n",
       "      <td>1.0</td>\n",
       "    </tr>\n",
       "    <tr>\n",
       "      <th>dog</th>\n",
       "      <td>NaN</td>\n",
       "      <td>1.0</td>\n",
       "      <td>1</td>\n",
       "      <td>NaN</td>\n",
       "      <td>NaN</td>\n",
       "    </tr>\n",
       "    <tr>\n",
       "      <th>chased</th>\n",
       "      <td>NaN</td>\n",
       "      <td>NaN</td>\n",
       "      <td>2</td>\n",
       "      <td>NaN</td>\n",
       "      <td>1.0</td>\n",
       "    </tr>\n",
       "    <tr>\n",
       "      <th>mouse</th>\n",
       "      <td>NaN</td>\n",
       "      <td>NaN</td>\n",
       "      <td>1</td>\n",
       "      <td>1.0</td>\n",
       "      <td>NaN</td>\n",
       "    </tr>\n",
       "  </tbody>\n",
       "</table>\n",
       "</div>"
      ],
      "text/plain": [
       "        dog  ran  cat  chased  mouse\n",
       "ran     1.0  NaN    2     NaN    NaN\n",
       "cat     1.0  2.0    2     2.0    1.0\n",
       "dog     NaN  1.0    1     NaN    NaN\n",
       "chased  NaN  NaN    2     NaN    1.0\n",
       "mouse   NaN  NaN    1     1.0    NaN"
      ]
     },
     "execution_count": 16,
     "metadata": {},
     "output_type": "execute_result"
    }
   ],
   "source": [
    "import pandas as pd\n",
    "\n",
    "pd.DataFrame.from_dict(word_context_matrix)"
   ]
  },
  {
   "cell_type": "code",
   "execution_count": 17,
   "id": "bf18d0fc-59a1-41ff-83a5-8cea5e15223b",
   "metadata": {},
   "outputs": [
    {
     "name": "stdout",
     "output_type": "stream",
     "text": [
      "Word-Context Matrix:\n",
      "    dog ran cat chased mouse\n",
      "dog           0     1     1     0     0\n",
      "ran           1     0     2     0     0\n",
      "cat           1     2     2     2     1\n",
      "chased        0     0     2     0     1\n",
      "mouse         0     0     1     1     0\n"
     ]
    }
   ],
   "source": [
    "# Convert word-context matrix to a numpy matrix\n",
    "words = list(word_context_matrix.keys())\n",
    "word_context_array = np.zeros((len(words), len(words)), dtype=int)\n",
    "\n",
    "for i, word in enumerate(words):\n",
    "    for j, context_word in enumerate(words):\n",
    "        if context_word in word_context_matrix[word]:\n",
    "            word_context_array[i, j] = word_context_matrix[word][context_word]\n",
    "\n",
    "print(\"Word-Context Matrix:\")\n",
    "print(\"    \" + \" \".join(words))\n",
    "for i, row in enumerate(word_context_array):\n",
    "    print(words[i].ljust(10) + \" \".join(map(lambda x: str(x).rjust(5), row)))"
   ]
  },
  {
   "cell_type": "code",
   "execution_count": 23,
   "id": "69827689-af7d-4fa8-9dd7-4d74eb1173fd",
   "metadata": {},
   "outputs": [
    {
     "name": "stdout",
     "output_type": "stream",
     "text": [
      "\n",
      "Cosine Similarity Matrix:\n",
      "           dog  ran  cat  chased  mouse\n",
      "dog        1.00  0.63  0.76  0.63  0.50\n",
      "ran        0.63  1.00  0.60  0.80  0.63\n",
      "cat        0.76  0.60  1.00  0.60  0.76\n",
      "chased     0.63  0.80  0.60  1.00  0.63\n",
      "mouse      0.50  0.63  0.76  0.63  1.00\n"
     ]
    }
   ],
   "source": [
    "def cosine_similarity(v1, v2):\n",
    "    return np.dot(v1, v2) / (np.linalg.norm(v1) * np.linalg.norm(v2))\n",
    "\n",
    "\n",
    "print(\"\\nCosine Similarity Matrix:\")\n",
    "print(\"           \" + \"  \".join(words))\n",
    "for i, row in enumerate(word_context_array):\n",
    "    similarity_row = []\n",
    "    for j in range(len(words)):\n",
    "        similarity = cosine_similarity(\n",
    "            word_context_array[i], word_context_array[j])\n",
    "        similarity_row.append(f\"{similarity:.2f}\".rjust(5))\n",
    "    print(words[i].ljust(10) + \" \".join(similarity_row))\n"
   ]
  },
  {
   "cell_type": "code",
   "execution_count": 19,
   "id": "95d1a738-daf7-4efc-a11c-1539fb10b73f",
   "metadata": {},
   "outputs": [
    {
     "name": "stdout",
     "output_type": "stream",
     "text": [
      "{:10} hello\n"
     ]
    }
   ],
   "source": [
    " print(\"{:10} hello\")"
   ]
  }
 ],
 "metadata": {
  "kernelspec": {
   "display_name": "Python 3 (ipykernel)",
   "language": "python",
   "name": "python3"
  },
  "language_info": {
   "codemirror_mode": {
    "name": "ipython",
    "version": 3
   },
   "file_extension": ".py",
   "mimetype": "text/x-python",
   "name": "python",
   "nbconvert_exporter": "python",
   "pygments_lexer": "ipython3",
   "version": "3.10.12"
  }
 },
 "nbformat": 4,
 "nbformat_minor": 5
}
